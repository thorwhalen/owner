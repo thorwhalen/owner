{
 "cells": [
  {
   "cell_type": "markdown",
   "metadata": {
    "toc": true
   },
   "source": [
    "<h1>Table of Contents<span class=\"tocSkip\"></span></h1>\n",
    "<div class=\"toc\"><ul class=\"toc-item\"><li><span><a href=\"#Essentially\" data-toc-modified-id=\"Essentially-1\"><span class=\"toc-item-num\">1&nbsp;&nbsp;</span>Essentially</a></span><ul class=\"toc-item\"><li><span><a href=\"#What's-happening?\" data-toc-modified-id=\"What's-happening?-1.1\"><span class=\"toc-item-num\">1.1&nbsp;&nbsp;</span>What's happening?</a></span></li><li><span><a href=\"#weave\" data-toc-modified-id=\"weave-1.2\"><span class=\"toc-item-num\">1.2&nbsp;&nbsp;</span>weave</a></span></li><li><span><a href=\"#unweave\" data-toc-modified-id=\"unweave-1.3\"><span class=\"toc-item-num\">1.3&nbsp;&nbsp;</span>unweave</a></span></li><li><span><a href=\"#inspecting-the-parts-of-the-woven\" data-toc-modified-id=\"inspecting-the-parts-of-the-woven-1.4\"><span class=\"toc-item-num\">1.4&nbsp;&nbsp;</span>inspecting the parts of the woven</a></span></li><li><span><a href=\"#a-bit-more-control-on-how-you-get-your-woven-parts\" data-toc-modified-id=\"a-bit-more-control-on-how-you-get-your-woven-parts-1.5\"><span class=\"toc-item-num\">1.5&nbsp;&nbsp;</span>a bit more control on how you get your woven parts</a></span></li></ul></li></ul></div>"
   ]
  },
  {
   "cell_type": "code",
   "execution_count": 118,
   "metadata": {
    "ExecuteTime": {
     "end_time": "2020-12-08T00:10:16.156458Z",
     "start_time": "2020-12-08T00:10:16.129975Z"
    }
   },
   "outputs": [
    {
     "data": {
      "text/plain": [
       "b'\\x00\\x01\\x07'"
      ]
     },
     "execution_count": 118,
     "metadata": {},
     "output_type": "execute_result"
    }
   ],
   "source": [
    "from owner import int_to_bytes, bytes_to_int\n",
    "\n",
    "# int_to_bytes(bytes_to_int())\n",
    "\n",
    "bytes_to_int(int_to_bytes(123456)) == 123456\n",
    "int_to_bytes(7, n_bytes=3)\n",
    "int_to_bytes(255, n_bytes=3)\n",
    "int_to_bytes(256, n_bytes=3)\n",
    "int_to_bytes(256 + 7, n_bytes=3)"
   ]
  },
  {
   "cell_type": "markdown",
   "metadata": {},
   "source": [
    "# Essentially"
   ]
  },
  {
   "cell_type": "code",
   "execution_count": 98,
   "metadata": {
    "ExecuteTime": {
     "end_time": "2020-12-08T00:02:37.060773Z",
     "start_time": "2020-12-08T00:02:36.850669Z"
    }
   },
   "outputs": [],
   "source": [
    "from owner import weave, unweave\n",
    "\n",
    "assert unweave(weave(b'bob and alice')) == b'bob and alice'"
   ]
  },
  {
   "cell_type": "markdown",
   "metadata": {},
   "source": [
    "## What's happening?"
   ]
  },
  {
   "cell_type": "markdown",
   "metadata": {},
   "source": [
    "Well, here's what's happening by default.\n",
    "\n",
    "First, a weaver is made..."
   ]
  },
  {
   "cell_type": "code",
   "execution_count": 97,
   "metadata": {
    "ExecuteTime": {
     "end_time": "2020-12-08T00:00:17.146406Z",
     "start_time": "2020-12-08T00:00:16.920866Z"
    }
   },
   "outputs": [],
   "source": [
    "from owner import HeadWeaver\n",
    "\n",
    "weaver = HeadWeaver()"
   ]
  },
  {
   "cell_type": "markdown",
   "metadata": {},
   "source": [
    "## weave"
   ]
  },
  {
   "cell_type": "markdown",
   "metadata": {},
   "source": [
    "When we weave, we get the same original content, but with a bunch of \"other junk\"..."
   ]
  },
  {
   "cell_type": "code",
   "execution_count": 91,
   "metadata": {
    "ExecuteTime": {
     "end_time": "2020-12-07T23:53:50.179982Z",
     "start_time": "2020-12-07T23:53:50.156773Z"
    }
   },
   "outputs": [
    {
     "data": {
      "text/plain": [
       "b'\\x00\\x00\\x00\\x00\\x00\\x00\\x00\\x00\\x00\\x00\\x00\\x00\\x00\\x00\\x00\\x00\\x00\\x00\\x00\\x00\\x00\\x00\\x00\\x00\\x00\\x00\\x00\\x00\\x00\\x00\\x00\\x00\\x00\\x00\\x00\\x00\\x00\\x00\\x00\\x00\\x00\\x00\\x00\\x00\\x00\\x00\\x00\\x00\\x00\\x00\\x00\\x00\\x00\\x00\\x00\\x00\\x00\\x00\\x00\\x00\\x00\\x00\\x00\\xb8\\xe8gU\\xcc\\xc1\\n)\\xd1\\xb0\\x1dd\\x07\\xa4\\x90\\xbd\\xfe\\x0f7\\xe9\\xb5\\xcd\\xf8\\xd7[z\\xc5\\xeao\\xac\\x03|8**optional free-from \"extra info goes here: It is meant for ownership and dating info.**--this is where content goes--'"
      ]
     },
     "execution_count": 91,
     "metadata": {},
     "output_type": "execute_result"
    }
   ],
   "source": [
    "content = b'--this is where content goes--'\n",
    "extra_info = b'**optional free-from \"extra info goes here: It is meant for ownership and dating info.**'\n",
    "w = weaver.weave(content, extra_info)\n",
    "w"
   ]
  },
  {
   "cell_type": "markdown",
   "metadata": {
    "ExecuteTime": {
     "end_time": "2020-12-07T23:41:59.441587Z",
     "start_time": "2020-12-07T23:41:59.419598Z"
    }
   },
   "source": [
    "## unweave"
   ]
  },
  {
   "cell_type": "markdown",
   "metadata": {},
   "source": [
    "No fret though, we can unjunk the weave."
   ]
  },
  {
   "cell_type": "code",
   "execution_count": 93,
   "metadata": {
    "ExecuteTime": {
     "end_time": "2020-12-07T23:53:56.887718Z",
     "start_time": "2020-12-07T23:53:56.863929Z"
    }
   },
   "outputs": [
    {
     "data": {
      "text/plain": [
       "b'--this is where content goes--'"
      ]
     },
     "execution_count": 93,
     "metadata": {},
     "output_type": "execute_result"
    }
   ],
   "source": [
    "unwoven_content = weaver.unweave(w)\n",
    "assert unwoven_content == content  # see that the unwoven content is the same as the original content\n",
    "unwoven_content"
   ]
  },
  {
   "cell_type": "markdown",
   "metadata": {},
   "source": [
    "What does weaving and unweaving do for you?\n",
    "\n",
    "Well, that's up to you. It's just a means to add some information to some content, within the bytes of the content itself, and be able to still access the original content. \n",
    "\n",
    "What you put in the `extra_info` depends on you and your use case. \n",
    "The use case we have in mind here is: I want to prove that some content is mine by posting a hash of it on a block-chain. \n",
    "But if I just hash the content, only the content is represented, not any other information (such as my name etc.). \n",
    "Simple solution to that: Just prepend my name (or any other information) to the raw content.\n",
    "That's what `extra_info` is.\n",
    "Ah... but then I need to know where the original content starts. \n",
    "That's what `offset` is.\n",
    "And then we added a `content_hash` to add extra error-correcting abilities. \n",
    "\n",
    "Let's now have a look at how the woven bytes are parsed."
   ]
  },
  {
   "cell_type": "markdown",
   "metadata": {},
   "source": [
    "## inspecting the parts of the woven"
   ]
  },
  {
   "cell_type": "code",
   "execution_count": 66,
   "metadata": {
    "ExecuteTime": {
     "end_time": "2020-12-07T23:43:48.302894Z",
     "start_time": "2020-12-07T23:43:48.279931Z"
    }
   },
   "outputs": [
    {
     "data": {
      "text/plain": [
       "UnWovenBaseHeaderWeave(offset=b'\\x00\\x00\\x00\\x00\\x00\\x00\\x00\\x00\\x00\\x00\\x00\\x00\\x00\\x00\\x00\\x00\\x00\\x00\\x00\\x00\\x00\\x00\\x00\\x00\\x00\\x00\\x00\\x00\\x00\\x00\\x00\\x00\\x00\\x00\\x00\\x00\\x00\\x00\\x00\\x00\\x00\\x00\\x00\\x00\\x00\\x00\\x00\\x00\\x00\\x00\\x00\\x00\\x00\\x00\\x00\\x00\\x00\\x00\\x00\\x00\\x00\\x00\\x00\\xb8', content_hash=b'\\xe8gU\\xcc\\xc1\\n)\\xd1\\xb0\\x1dd\\x07\\xa4\\x90\\xbd\\xfe\\x0f7\\xe9\\xb5\\xcd\\xf8\\xd7[z\\xc5\\xeao\\xac\\x03|8', extra_info=b'**optional free-from \"extra info goes here: It is meant for ownership and dating info.**', content=b'--this is where content goes--')"
      ]
     },
     "execution_count": 66,
     "metadata": {},
     "output_type": "execute_result"
    }
   ],
   "source": [
    "parts = weaver.unweave_parts(w)\n",
    "parts"
   ]
  },
  {
   "cell_type": "code",
   "execution_count": 67,
   "metadata": {
    "ExecuteTime": {
     "end_time": "2020-12-07T23:44:02.321249Z",
     "start_time": "2020-12-07T23:44:02.297136Z"
    }
   },
   "outputs": [
    {
     "data": {
      "text/plain": [
       "('offset', 'content_hash', 'extra_info', 'content')"
      ]
     },
     "execution_count": 67,
     "metadata": {},
     "output_type": "execute_result"
    }
   ],
   "source": [
    "parts._fields"
   ]
  },
  {
   "cell_type": "markdown",
   "metadata": {},
   "source": [
    "As you see in the print out above, the parts are all given in raw bytes format. \n",
    "\n",
    "If you need them to be interpreted you can do so like this:"
   ]
  },
  {
   "cell_type": "code",
   "execution_count": 68,
   "metadata": {
    "ExecuteTime": {
     "end_time": "2020-12-07T23:44:10.228302Z",
     "start_time": "2020-12-07T23:44:10.204054Z"
    }
   },
   "outputs": [
    {
     "data": {
      "text/plain": [
       "UnWovenBaseHeaderWeave(offset=184, content_hash='e86755ccc10a29d1b01d6407a490bdfe0f37e9b5cdf8d75b7ac5ea6fac037c38', extra_info=b'**optional free-from \"extra info goes here: It is meant for ownership and dating info.**', content=b'--this is where content goes--')"
      ]
     },
     "execution_count": 68,
     "metadata": {},
     "output_type": "execute_result"
    }
   ],
   "source": [
    "parts = weaver.unweave_parts(w, interpret_bytes=True)\n",
    "parts"
   ]
  },
  {
   "cell_type": "markdown",
   "metadata": {},
   "source": [
    "The offset tells us where the content actually starts. Here, we know it starts at the 184th byte."
   ]
  },
  {
   "cell_type": "code",
   "execution_count": 69,
   "metadata": {
    "ExecuteTime": {
     "end_time": "2020-12-07T23:44:11.322236Z",
     "start_time": "2020-12-07T23:44:11.299237Z"
    }
   },
   "outputs": [
    {
     "data": {
      "text/plain": [
       "184"
      ]
     },
     "execution_count": 69,
     "metadata": {},
     "output_type": "execute_result"
    }
   ],
   "source": [
    "parts.offset"
   ]
  },
  {
   "cell_type": "markdown",
   "metadata": {},
   "source": [
    "The ``content_hash`` is the sha256 of the original contents, here presented in hex form."
   ]
  },
  {
   "cell_type": "code",
   "execution_count": 70,
   "metadata": {
    "ExecuteTime": {
     "end_time": "2020-12-07T23:44:12.604991Z",
     "start_time": "2020-12-07T23:44:12.582217Z"
    }
   },
   "outputs": [
    {
     "data": {
      "text/plain": [
       "'e86755ccc10a29d1b01d6407a490bdfe0f37e9b5cdf8d75b7ac5ea6fac037c38'"
      ]
     },
     "execution_count": 70,
     "metadata": {},
     "output_type": "execute_result"
    }
   ],
   "source": [
    "parts.content_hash"
   ]
  },
  {
   "cell_type": "code",
   "execution_count": 71,
   "metadata": {
    "ExecuteTime": {
     "end_time": "2020-12-07T23:44:16.543886Z",
     "start_time": "2020-12-07T23:44:16.520763Z"
    }
   },
   "outputs": [
    {
     "data": {
      "text/plain": [
       "b'**optional free-from \"extra info goes here: It is meant for ownership and dating info.**'"
      ]
     },
     "execution_count": 71,
     "metadata": {},
     "output_type": "execute_result"
    }
   ],
   "source": [
    "parts.extra_info"
   ]
  },
  {
   "cell_type": "code",
   "execution_count": 72,
   "metadata": {
    "ExecuteTime": {
     "end_time": "2020-12-07T23:44:17.526214Z",
     "start_time": "2020-12-07T23:44:17.503776Z"
    }
   },
   "outputs": [
    {
     "data": {
      "text/plain": [
       "b'--this is where content goes--'"
      ]
     },
     "execution_count": 72,
     "metadata": {},
     "output_type": "execute_result"
    }
   ],
   "source": [
    "parts.content"
   ]
  },
  {
   "cell_type": "markdown",
   "metadata": {},
   "source": [
    "## a bit more control on how you get your woven parts "
   ]
  },
  {
   "cell_type": "code",
   "execution_count": 85,
   "metadata": {
    "ExecuteTime": {
     "end_time": "2020-12-07T23:50:11.835154Z",
     "start_time": "2020-12-07T23:50:11.806547Z"
    }
   },
   "outputs": [
    {
     "data": {
      "text/plain": [
       "UnWovenBaseHeaderWeave(offset=141, content_hash='2263d8dd95ccfe1ad45d732c6eaaf59b3345e6647331605cb15aae52002dff75', extra_info={'name': 'Thor Whalen', 'date': '2013-12-11'}, content='This is some text')"
      ]
     },
     "execution_count": 85,
     "metadata": {},
     "output_type": "execute_result"
    }
   ],
   "source": [
    "import json\n",
    "\n",
    "weaver = HeadWeaver()\n",
    "content = 'This is some text'\n",
    "extra_info = {\"name\": \"Thor Whalen\", \n",
    "              \"date\": \"2013-12-11\"}\n",
    "w = weaver.weave(content.encode(), json.dumps(extra_info).encode())\n",
    "\n",
    "\n",
    "parts = weaver.unweave_parts(w, interpret_bytes=True, decode_content=True, decode_extra_info=json.loads)\n",
    "parts"
   ]
  },
  {
   "cell_type": "code",
   "execution_count": 88,
   "metadata": {
    "ExecuteTime": {
     "end_time": "2020-12-07T23:50:41.870521Z",
     "start_time": "2020-12-07T23:50:41.846187Z"
    }
   },
   "outputs": [
    {
     "data": {
      "text/plain": [
       "{'name': 'Thor Whalen', 'date': '2013-12-11'}"
      ]
     },
     "execution_count": 88,
     "metadata": {},
     "output_type": "execute_result"
    }
   ],
   "source": [
    "assert isinstance(parts.extra_info, dict)  # I'm now getting extra_info in the form of a dict\n",
    "parts.extra_info"
   ]
  },
  {
   "cell_type": "code",
   "execution_count": 90,
   "metadata": {
    "ExecuteTime": {
     "end_time": "2020-12-07T23:51:03.237679Z",
     "start_time": "2020-12-07T23:51:03.214917Z"
    }
   },
   "outputs": [
    {
     "data": {
      "text/plain": [
       "'This is some text'"
      ]
     },
     "execution_count": 90,
     "metadata": {},
     "output_type": "execute_result"
    }
   ],
   "source": [
    "assert isinstance(parts.content, str)  # content is as a str\n",
    "parts.content"
   ]
  },
  {
   "cell_type": "code",
   "execution_count": null,
   "metadata": {},
   "outputs": [],
   "source": []
  },
  {
   "cell_type": "code",
   "execution_count": null,
   "metadata": {},
   "outputs": [],
   "source": []
  },
  {
   "cell_type": "code",
   "execution_count": null,
   "metadata": {},
   "outputs": [],
   "source": []
  },
  {
   "cell_type": "code",
   "execution_count": null,
   "metadata": {},
   "outputs": [],
   "source": []
  },
  {
   "cell_type": "code",
   "execution_count": null,
   "metadata": {},
   "outputs": [],
   "source": []
  },
  {
   "cell_type": "code",
   "execution_count": null,
   "metadata": {},
   "outputs": [],
   "source": []
  },
  {
   "cell_type": "code",
   "execution_count": null,
   "metadata": {},
   "outputs": [],
   "source": []
  },
  {
   "cell_type": "code",
   "execution_count": null,
   "metadata": {},
   "outputs": [],
   "source": []
  },
  {
   "cell_type": "code",
   "execution_count": null,
   "metadata": {},
   "outputs": [],
   "source": []
  }
 ],
 "metadata": {
  "kernelspec": {
   "display_name": "Python 3",
   "language": "python",
   "name": "python3"
  },
  "language_info": {
   "codemirror_mode": {
    "name": "ipython",
    "version": 3
   },
   "file_extension": ".py",
   "mimetype": "text/x-python",
   "name": "python",
   "nbconvert_exporter": "python",
   "pygments_lexer": "ipython3",
   "version": "3.8.6"
  },
  "latex_envs": {
   "LaTeX_envs_menu_present": true,
   "autoclose": false,
   "autocomplete": true,
   "bibliofile": "biblio.bib",
   "cite_by": "apalike",
   "current_citInitial": 1,
   "eqLabelWithNumbers": true,
   "eqNumInitial": 1,
   "hotkeys": {
    "equation": "Ctrl-E",
    "itemize": "Ctrl-I"
   },
   "labels_anchors": false,
   "latex_user_defs": false,
   "report_style_numbering": false,
   "user_envs_cfg": false
  },
  "toc": {
   "base_numbering": 1,
   "nav_menu": {},
   "number_sections": true,
   "sideBar": false,
   "skip_h1_title": false,
   "title_cell": "Table of Contents",
   "title_sidebar": "Contents",
   "toc_cell": true,
   "toc_position": {
    "height": "137px",
    "left": "49px",
    "top": "110px",
    "width": "1132px"
   },
   "toc_section_display": true,
   "toc_window_display": true
  }
 },
 "nbformat": 4,
 "nbformat_minor": 4
}
